{
 "cells": [
  {
   "cell_type": "markdown",
   "id": "d1a7b95a",
   "metadata": {
    "papermill": {
     "duration": 0.003675,
     "end_time": "2023-08-07T17:17:15.199900",
     "exception": false,
     "start_time": "2023-08-07T17:17:15.196225",
     "status": "completed"
    },
    "tags": []
   },
   "source": [
    "# CODE"
   ]
  },
  {
   "cell_type": "code",
   "execution_count": 26,
   "id": "e6cce83f",
   "metadata": {
    "execution": {
     "iopub.execute_input": "2023-08-07T17:17:15.209434Z",
     "iopub.status.busy": "2023-08-07T17:17:15.208742Z",
     "iopub.status.idle": "2023-08-07T17:17:15.213530Z",
     "shell.execute_reply": "2023-08-07T17:17:15.212710Z"
    },
    "papermill": {
     "duration": 0.011717,
     "end_time": "2023-08-07T17:17:15.215484",
     "exception": false,
     "start_time": "2023-08-07T17:17:15.203767",
     "status": "completed"
    },
    "tags": []
   },
   "outputs": [],
   "source": [
    "import pandas as pd\n",
    "import datetime as dt"
   ]
  },
  {
   "cell_type": "code",
   "execution_count": null,
   "id": "0345e97c",
   "metadata": {
    "execution": {
     "iopub.execute_input": "2023-08-07T17:17:15.225020Z",
     "iopub.status.busy": "2023-08-07T17:17:15.224080Z",
     "iopub.status.idle": "2023-08-07T17:17:17.648293Z",
     "shell.execute_reply": "2023-08-07T17:17:17.647332Z"
    },
    "papermill": {
     "duration": 2.431291,
     "end_time": "2023-08-07T17:17:17.650524",
     "exception": false,
     "start_time": "2023-08-07T17:17:15.219233",
     "status": "completed"
    },
    "tags": []
   },
   "outputs": [],
   "source": [
    "#reading and checking the data\n",
    "data = pd.read_csv('data.csv', encoding = 'iso-8859-1', low_memory = False)\n",
    "#copyting the data to avoid changing the original data\n",
    "df = data.copy()\n",
    "df.info()\n",
    "df.head()\n",
    "df.tail()"
   ]
  },
  {
   "cell_type": "code",
   "execution_count": 28,
   "id": "6ce374cb",
   "metadata": {
    "execution": {
     "iopub.execute_input": "2023-08-07T17:17:17.661086Z",
     "iopub.status.busy": "2023-08-07T17:17:17.660723Z",
     "iopub.status.idle": "2023-08-07T17:17:17.737975Z",
     "shell.execute_reply": "2023-08-07T17:17:17.736729Z"
    },
    "papermill": {
     "duration": 0.085367,
     "end_time": "2023-08-07T17:17:17.740603",
     "exception": false,
     "start_time": "2023-08-07T17:17:17.655236",
     "status": "completed"
    },
    "tags": []
   },
   "outputs": [],
   "source": [
    "df = df.dropna(subset = ['so2', 'no2']) #dropping the na values in the so2 and no2 column"
   ]
  },
  {
   "cell_type": "code",
   "execution_count": 29,
   "id": "0f8bbb04",
   "metadata": {
    "execution": {
     "iopub.execute_input": "2023-08-07T17:17:17.751444Z",
     "iopub.status.busy": "2023-08-07T17:17:17.750833Z",
     "iopub.status.idle": "2023-08-07T17:17:17.758111Z",
     "shell.execute_reply": "2023-08-07T17:17:17.757022Z"
    },
    "papermill": {
     "duration": 0.015499,
     "end_time": "2023-08-07T17:17:17.760745",
     "exception": false,
     "start_time": "2023-08-07T17:17:17.745246",
     "status": "completed"
    },
    "tags": []
   },
   "outputs": [],
   "source": [
    "#creating a new column (air_quality) which is a sum of so2 and no2 columns\n",
    "df['air_quality'] = df.so2 + df.no2"
   ]
  },
  {
   "cell_type": "code",
   "execution_count": 30,
   "id": "c714a579",
   "metadata": {
    "execution": {
     "iopub.execute_input": "2023-08-07T17:17:17.771406Z",
     "iopub.status.busy": "2023-08-07T17:17:17.771012Z",
     "iopub.status.idle": "2023-08-07T17:17:19.212434Z",
     "shell.execute_reply": "2023-08-07T17:17:19.211182Z"
    },
    "papermill": {
     "duration": 1.449402,
     "end_time": "2023-08-07T17:17:19.214965",
     "exception": false,
     "start_time": "2023-08-07T17:17:17.765563",
     "status": "completed"
    },
    "tags": []
   },
   "outputs": [],
   "source": [
    "df['date'] = pd.to_datetime(df['date']) #coverting to datetime data type\n",
    "output_dict_city = {} #output dictionary for city analysis\n",
    "for year in range (1987 , 2016): #for loop used for extracting data by year\n",
    "    temp_df = df[df['date'].dt.year == year] #extracting data by year\n",
    "    #grouping data by location and then taking the mean of so2 for the particular year\n",
    "    grp = pd.DataFrame(temp_df.groupby('location').air_quality.mean()) \n",
    "    #sorting highest to lowest\n",
    "    grp = grp.sort_values(by='air_quality', ascending = False)\n",
    "    #appending to dictionary\n",
    "    output_dict_city[year] = grp.head(10)"
   ]
  },
  {
   "cell_type": "code",
   "execution_count": 31,
   "id": "da07a220",
   "metadata": {
    "execution": {
     "iopub.execute_input": "2023-08-07T17:17:19.226128Z",
     "iopub.status.busy": "2023-08-07T17:17:19.225728Z",
     "iopub.status.idle": "2023-08-07T17:17:20.576868Z",
     "shell.execute_reply": "2023-08-07T17:17:20.575630Z"
    },
    "papermill": {
     "duration": 1.359292,
     "end_time": "2023-08-07T17:17:20.579271",
     "exception": false,
     "start_time": "2023-08-07T17:17:19.219979",
     "status": "completed"
    },
    "tags": []
   },
   "outputs": [],
   "source": [
    "#same as previous cell but for states instead of cities\n",
    "output_dict_state = {}\n",
    "for year in range (1987 , 2016):\n",
    "    temp_df = df[df['date'].dt.year == year]\n",
    "    grp = pd.DataFrame(temp_df.groupby('state').air_quality.mean())\n",
    "    grp = grp.sort_values(by='air_quality', ascending = False)\n",
    "    output_dict_state[year] = grp.head(10)"
   ]
  },
  {
   "cell_type": "code",
   "execution_count": 32,
   "id": "f53d4bae",
   "metadata": {
    "execution": {
     "iopub.execute_input": "2023-08-07T17:17:20.589574Z",
     "iopub.status.busy": "2023-08-07T17:17:20.589164Z",
     "iopub.status.idle": "2023-08-07T17:17:20.658365Z",
     "shell.execute_reply": "2023-08-07T17:17:20.657135Z"
    },
    "papermill": {
     "duration": 0.077275,
     "end_time": "2023-08-07T17:17:20.660968",
     "exception": false,
     "start_time": "2023-08-07T17:17:20.583693",
     "status": "completed"
    },
    "tags": []
   },
   "outputs": [],
   "source": [
    "#same as previous cells but for every month in Delhi for the year 2015\n",
    "delhi_data = df[df['date'].dt.year == 2015]\n",
    "delhi_df = delhi_data.loc[delhi_data.location == 'Delhi']\n",
    "delhi_dict = {}\n",
    "for month in range(1,13):\n",
    "    temp = delhi_df[delhi_df['date'].dt.month == month]\n",
    "    temp = temp.air_quality.mean()\n",
    "    delhi_dict[month] = temp"
   ]
  },
  {
   "cell_type": "markdown",
   "id": "02633f56",
   "metadata": {
    "papermill": {
     "duration": 0.003899,
     "end_time": "2023-08-07T17:17:20.669334",
     "exception": false,
     "start_time": "2023-08-07T17:17:20.665435",
     "status": "completed"
    },
    "tags": []
   },
   "source": [
    "# TESTING"
   ]
  },
  {
   "cell_type": "code",
   "execution_count": null,
   "id": "9b9e7215",
   "metadata": {
    "execution": {
     "iopub.execute_input": "2023-08-07T17:17:20.679238Z",
     "iopub.status.busy": "2023-08-07T17:17:20.678846Z",
     "iopub.status.idle": "2023-08-07T17:17:20.683579Z",
     "shell.execute_reply": "2023-08-07T17:17:20.682517Z"
    },
    "papermill": {
     "duration": 0.012015,
     "end_time": "2023-08-07T17:17:20.685561",
     "exception": false,
     "start_time": "2023-08-07T17:17:20.673546",
     "status": "completed"
    },
    "tags": []
   },
   "outputs": [],
   "source": [
    "#Cell for testing the data\n",
    "#Input the years within the given range\n",
    "\n",
    "#Top 10 polluted cities every year:\n",
    "print(output_dict_city[2012])\n",
    "\n",
    "#Top 10 polluted states every year:\n",
    "print(output_dict_state[2010])\n",
    "\n",
    "#Delhi month wise pollution for 2015:\n",
    "print(delhi_dict[6])"
   ]
  }
 ],
 "metadata": {
  "kernelspec": {
   "display_name": "Python 3",
   "language": "python",
   "name": "python3"
  },
  "language_info": {
   "codemirror_mode": {
    "name": "ipython",
    "version": 3
   },
   "file_extension": ".py",
   "mimetype": "text/x-python",
   "name": "python",
   "nbconvert_exporter": "python",
   "pygments_lexer": "ipython3",
   "version": "3.10.6"
  },
  "papermill": {
   "default_parameters": {},
   "duration": 16.055455,
   "end_time": "2023-08-07T17:17:21.641327",
   "environment_variables": {},
   "exception": null,
   "input_path": "__notebook__.ipynb",
   "output_path": "__notebook__.ipynb",
   "parameters": {},
   "start_time": "2023-08-07T17:17:05.585872",
   "version": "2.4.0"
  }
 },
 "nbformat": 4,
 "nbformat_minor": 5
}
