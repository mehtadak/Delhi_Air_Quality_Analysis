{
 "cells": [
  {
   "cell_type": "markdown",
   "id": "d1a7b95a",
   "metadata": {
    "papermill": {
     "duration": 0.003675,
     "end_time": "2023-08-07T17:17:15.199900",
     "exception": false,
     "start_time": "2023-08-07T17:17:15.196225",
     "status": "completed"
    },
    "tags": []
   },
   "source": [
    "# CODE"
   ]
  },
  {
   "cell_type": "code",
   "execution_count": 3,
   "id": "e6cce83f",
   "metadata": {
    "execution": {
     "iopub.execute_input": "2023-08-07T17:17:15.209434Z",
     "iopub.status.busy": "2023-08-07T17:17:15.208742Z",
     "iopub.status.idle": "2023-08-07T17:17:15.213530Z",
     "shell.execute_reply": "2023-08-07T17:17:15.212710Z"
    },
    "papermill": {
     "duration": 0.011717,
     "end_time": "2023-08-07T17:17:15.215484",
     "exception": false,
     "start_time": "2023-08-07T17:17:15.203767",
     "status": "completed"
    },
    "tags": []
   },
   "outputs": [],
   "source": [
    "import pandas as pd\n",
    "import datetime as dt"
   ]
  },
  {
   "cell_type": "code",
   "execution_count": 4,
   "id": "0345e97c",
   "metadata": {
    "execution": {
     "iopub.execute_input": "2023-08-07T17:17:15.225020Z",
     "iopub.status.busy": "2023-08-07T17:17:15.224080Z",
     "iopub.status.idle": "2023-08-07T17:17:17.648293Z",
     "shell.execute_reply": "2023-08-07T17:17:17.647332Z"
    },
    "papermill": {
     "duration": 2.431291,
     "end_time": "2023-08-07T17:17:17.650524",
     "exception": false,
     "start_time": "2023-08-07T17:17:15.219233",
     "status": "completed"
    },
    "tags": []
   },
   "outputs": [
    {
     "name": "stdout",
     "output_type": "stream",
     "text": [
      "<class 'pandas.core.frame.DataFrame'>\n",
      "RangeIndex: 435742 entries, 0 to 435741\n",
      "Data columns (total 13 columns):\n",
      " #   Column                       Non-Null Count   Dtype  \n",
      "---  ------                       --------------   -----  \n",
      " 0   stn_code                     291665 non-null  object \n",
      " 1   sampling_date                435739 non-null  object \n",
      " 2   state                        435742 non-null  object \n",
      " 3   location                     435739 non-null  object \n",
      " 4   agency                       286261 non-null  object \n",
      " 5   type                         430349 non-null  object \n",
      " 6   so2                          401096 non-null  float64\n",
      " 7   no2                          419509 non-null  float64\n",
      " 8   rspm                         395520 non-null  float64\n",
      " 9   spm                          198355 non-null  float64\n",
      " 10  location_monitoring_station  408251 non-null  object \n",
      " 11  pm2_5                        9314 non-null    float64\n",
      " 12  date                         435735 non-null  object \n",
      "dtypes: float64(5), object(8)\n",
      "memory usage: 43.2+ MB\n"
     ]
    },
    {
     "data": {
      "text/html": [
       "<div>\n",
       "<style scoped>\n",
       "    .dataframe tbody tr th:only-of-type {\n",
       "        vertical-align: middle;\n",
       "    }\n",
       "\n",
       "    .dataframe tbody tr th {\n",
       "        vertical-align: top;\n",
       "    }\n",
       "\n",
       "    .dataframe thead th {\n",
       "        text-align: right;\n",
       "    }\n",
       "</style>\n",
       "<table border=\"1\" class=\"dataframe\">\n",
       "  <thead>\n",
       "    <tr style=\"text-align: right;\">\n",
       "      <th></th>\n",
       "      <th>stn_code</th>\n",
       "      <th>sampling_date</th>\n",
       "      <th>state</th>\n",
       "      <th>location</th>\n",
       "      <th>agency</th>\n",
       "      <th>type</th>\n",
       "      <th>so2</th>\n",
       "      <th>no2</th>\n",
       "      <th>rspm</th>\n",
       "      <th>spm</th>\n",
       "      <th>location_monitoring_station</th>\n",
       "      <th>pm2_5</th>\n",
       "      <th>date</th>\n",
       "    </tr>\n",
       "  </thead>\n",
       "  <tbody>\n",
       "    <tr>\n",
       "      <th>435737</th>\n",
       "      <td>SAMP</td>\n",
       "      <td>24-12-15</td>\n",
       "      <td>West Bengal</td>\n",
       "      <td>ULUBERIA</td>\n",
       "      <td>West Bengal State Pollution Control Board</td>\n",
       "      <td>RIRUO</td>\n",
       "      <td>22.0</td>\n",
       "      <td>50.0</td>\n",
       "      <td>143.0</td>\n",
       "      <td>NaN</td>\n",
       "      <td>Inside Rampal Industries,ULUBERIA</td>\n",
       "      <td>NaN</td>\n",
       "      <td>2015-12-24</td>\n",
       "    </tr>\n",
       "    <tr>\n",
       "      <th>435738</th>\n",
       "      <td>SAMP</td>\n",
       "      <td>29-12-15</td>\n",
       "      <td>West Bengal</td>\n",
       "      <td>ULUBERIA</td>\n",
       "      <td>West Bengal State Pollution Control Board</td>\n",
       "      <td>RIRUO</td>\n",
       "      <td>20.0</td>\n",
       "      <td>46.0</td>\n",
       "      <td>171.0</td>\n",
       "      <td>NaN</td>\n",
       "      <td>Inside Rampal Industries,ULUBERIA</td>\n",
       "      <td>NaN</td>\n",
       "      <td>2015-12-29</td>\n",
       "    </tr>\n",
       "    <tr>\n",
       "      <th>435739</th>\n",
       "      <td>NaN</td>\n",
       "      <td>NaN</td>\n",
       "      <td>andaman-and-nicobar-islands</td>\n",
       "      <td>NaN</td>\n",
       "      <td>NaN</td>\n",
       "      <td>NaN</td>\n",
       "      <td>NaN</td>\n",
       "      <td>NaN</td>\n",
       "      <td>NaN</td>\n",
       "      <td>NaN</td>\n",
       "      <td>NaN</td>\n",
       "      <td>NaN</td>\n",
       "      <td>NaN</td>\n",
       "    </tr>\n",
       "    <tr>\n",
       "      <th>435740</th>\n",
       "      <td>NaN</td>\n",
       "      <td>NaN</td>\n",
       "      <td>Lakshadweep</td>\n",
       "      <td>NaN</td>\n",
       "      <td>NaN</td>\n",
       "      <td>NaN</td>\n",
       "      <td>NaN</td>\n",
       "      <td>NaN</td>\n",
       "      <td>NaN</td>\n",
       "      <td>NaN</td>\n",
       "      <td>NaN</td>\n",
       "      <td>NaN</td>\n",
       "      <td>NaN</td>\n",
       "    </tr>\n",
       "    <tr>\n",
       "      <th>435741</th>\n",
       "      <td>NaN</td>\n",
       "      <td>NaN</td>\n",
       "      <td>Tripura</td>\n",
       "      <td>NaN</td>\n",
       "      <td>NaN</td>\n",
       "      <td>NaN</td>\n",
       "      <td>NaN</td>\n",
       "      <td>NaN</td>\n",
       "      <td>NaN</td>\n",
       "      <td>NaN</td>\n",
       "      <td>NaN</td>\n",
       "      <td>NaN</td>\n",
       "      <td>NaN</td>\n",
       "    </tr>\n",
       "  </tbody>\n",
       "</table>\n",
       "</div>"
      ],
      "text/plain": [
       "       stn_code sampling_date                        state  location  \\\n",
       "435737     SAMP      24-12-15                  West Bengal  ULUBERIA   \n",
       "435738     SAMP      29-12-15                  West Bengal  ULUBERIA   \n",
       "435739      NaN           NaN  andaman-and-nicobar-islands       NaN   \n",
       "435740      NaN           NaN                  Lakshadweep       NaN   \n",
       "435741      NaN           NaN                      Tripura       NaN   \n",
       "\n",
       "                                           agency   type   so2   no2   rspm  \\\n",
       "435737  West Bengal State Pollution Control Board  RIRUO  22.0  50.0  143.0   \n",
       "435738  West Bengal State Pollution Control Board  RIRUO  20.0  46.0  171.0   \n",
       "435739                                        NaN    NaN   NaN   NaN    NaN   \n",
       "435740                                        NaN    NaN   NaN   NaN    NaN   \n",
       "435741                                        NaN    NaN   NaN   NaN    NaN   \n",
       "\n",
       "        spm        location_monitoring_station  pm2_5        date  \n",
       "435737  NaN  Inside Rampal Industries,ULUBERIA    NaN  2015-12-24  \n",
       "435738  NaN  Inside Rampal Industries,ULUBERIA    NaN  2015-12-29  \n",
       "435739  NaN                                NaN    NaN         NaN  \n",
       "435740  NaN                                NaN    NaN         NaN  \n",
       "435741  NaN                                NaN    NaN         NaN  "
      ]
     },
     "execution_count": 4,
     "metadata": {},
     "output_type": "execute_result"
    }
   ],
   "source": [
    "#reading and checking the data\n",
    "data = pd.read_csv('data.csv', encoding = 'iso-8859-1', low_memory = False)\n",
    "#copyting the data to avoid changing the original data\n",
    "df = data.copy()\n",
    "df.info()\n",
    "df.head()\n",
    "df.tail()"
   ]
  },
  {
   "cell_type": "code",
   "execution_count": 5,
   "id": "6ce374cb",
   "metadata": {
    "execution": {
     "iopub.execute_input": "2023-08-07T17:17:17.661086Z",
     "iopub.status.busy": "2023-08-07T17:17:17.660723Z",
     "iopub.status.idle": "2023-08-07T17:17:17.737975Z",
     "shell.execute_reply": "2023-08-07T17:17:17.736729Z"
    },
    "papermill": {
     "duration": 0.085367,
     "end_time": "2023-08-07T17:17:17.740603",
     "exception": false,
     "start_time": "2023-08-07T17:17:17.655236",
     "status": "completed"
    },
    "tags": []
   },
   "outputs": [],
   "source": [
    "df = df.dropna(subset = ['so2', 'no2']) #dropping the na values in the so2 and no2 column"
   ]
  },
  {
   "cell_type": "code",
   "execution_count": 6,
   "id": "0f8bbb04",
   "metadata": {
    "execution": {
     "iopub.execute_input": "2023-08-07T17:17:17.751444Z",
     "iopub.status.busy": "2023-08-07T17:17:17.750833Z",
     "iopub.status.idle": "2023-08-07T17:17:17.758111Z",
     "shell.execute_reply": "2023-08-07T17:17:17.757022Z"
    },
    "papermill": {
     "duration": 0.015499,
     "end_time": "2023-08-07T17:17:17.760745",
     "exception": false,
     "start_time": "2023-08-07T17:17:17.745246",
     "status": "completed"
    },
    "tags": []
   },
   "outputs": [],
   "source": [
    "#creating a new column (air_quality) which is a sum of so2 and no2 columns\n",
    "df['air_quality'] = df.so2 + df.no2"
   ]
  },
  {
   "cell_type": "code",
   "execution_count": 7,
   "id": "c714a579",
   "metadata": {
    "execution": {
     "iopub.execute_input": "2023-08-07T17:17:17.771406Z",
     "iopub.status.busy": "2023-08-07T17:17:17.771012Z",
     "iopub.status.idle": "2023-08-07T17:17:19.212434Z",
     "shell.execute_reply": "2023-08-07T17:17:19.211182Z"
    },
    "papermill": {
     "duration": 1.449402,
     "end_time": "2023-08-07T17:17:19.214965",
     "exception": false,
     "start_time": "2023-08-07T17:17:17.765563",
     "status": "completed"
    },
    "tags": []
   },
   "outputs": [],
   "source": [
    "df['date'] = pd.to_datetime(df['date']) #coverting to datetime data type\n",
    "output_dict_city = {} #output dictionary for city analysis\n",
    "for year in range (1987 , 2016): #for loop used for extracting data by year\n",
    "    temp_df = df[df['date'].dt.year == year] #extracting data by year\n",
    "    #grouping data by location and then taking the mean of so2 for the particular year\n",
    "    grp = pd.DataFrame(temp_df.groupby('location').air_quality.mean()) \n",
    "    #sorting highest to lowest\n",
    "    grp = grp.sort_values(by='air_quality', ascending = False)\n",
    "    #appending to dictionary\n",
    "    output_dict_city[year] = grp.head(10)"
   ]
  },
  {
   "cell_type": "code",
   "execution_count": 8,
   "id": "da07a220",
   "metadata": {
    "execution": {
     "iopub.execute_input": "2023-08-07T17:17:19.226128Z",
     "iopub.status.busy": "2023-08-07T17:17:19.225728Z",
     "iopub.status.idle": "2023-08-07T17:17:20.576868Z",
     "shell.execute_reply": "2023-08-07T17:17:20.575630Z"
    },
    "papermill": {
     "duration": 1.359292,
     "end_time": "2023-08-07T17:17:20.579271",
     "exception": false,
     "start_time": "2023-08-07T17:17:19.219979",
     "status": "completed"
    },
    "tags": []
   },
   "outputs": [],
   "source": [
    "#same as previous cell but for states instead of cities\n",
    "output_dict_state = {}\n",
    "for year in range (1987 , 2016):\n",
    "    temp_df = df[df['date'].dt.year == year]\n",
    "    grp = pd.DataFrame(temp_df.groupby('location').air_quality.mean())\n",
    "    grp = grp.sort_values(by='air_quality', ascending = False)\n",
    "    output_dict_state[year] = grp.head(10)"
   ]
  },
  {
   "cell_type": "code",
   "execution_count": 9,
   "id": "f53d4bae",
   "metadata": {
    "execution": {
     "iopub.execute_input": "2023-08-07T17:17:20.589574Z",
     "iopub.status.busy": "2023-08-07T17:17:20.589164Z",
     "iopub.status.idle": "2023-08-07T17:17:20.658365Z",
     "shell.execute_reply": "2023-08-07T17:17:20.657135Z"
    },
    "papermill": {
     "duration": 0.077275,
     "end_time": "2023-08-07T17:17:20.660968",
     "exception": false,
     "start_time": "2023-08-07T17:17:20.583693",
     "status": "completed"
    },
    "tags": []
   },
   "outputs": [],
   "source": [
    "#same as previous cells but for every month in Delhi for the year 2015\n",
    "delhi_data = df[df['date'].dt.year == 2015]\n",
    "delhi_df = delhi_data.loc[delhi_data.location == 'Delhi']\n",
    "delhi_dict = {}\n",
    "for month in range(1,13):\n",
    "    temp = delhi_df[delhi_df['date'].dt.month == month]\n",
    "    temp = temp.air_quality.mean()\n",
    "    delhi_dict[month] = temp"
   ]
  },
  {
   "cell_type": "markdown",
   "id": "02633f56",
   "metadata": {
    "papermill": {
     "duration": 0.003899,
     "end_time": "2023-08-07T17:17:20.669334",
     "exception": false,
     "start_time": "2023-08-07T17:17:20.665435",
     "status": "completed"
    },
    "tags": []
   },
   "source": [
    "# TESTING"
   ]
  },
  {
   "cell_type": "code",
   "execution_count": 10,
   "id": "9b9e7215",
   "metadata": {
    "execution": {
     "iopub.execute_input": "2023-08-07T17:17:20.679238Z",
     "iopub.status.busy": "2023-08-07T17:17:20.678846Z",
     "iopub.status.idle": "2023-08-07T17:17:20.683579Z",
     "shell.execute_reply": "2023-08-07T17:17:20.682517Z"
    },
    "papermill": {
     "duration": 0.012015,
     "end_time": "2023-08-07T17:17:20.685561",
     "exception": false,
     "start_time": "2023-08-07T17:17:20.673546",
     "status": "completed"
    },
    "tags": []
   },
   "outputs": [],
   "source": [
    "#Cell for testing the data\n",
    "#Un-comment the code to test data for any of the three questiond\n",
    "\n",
    "#Top 10 polluted cities every year:\n",
    "#print(output_dict_city[#enter year between(including) 1987 and 2015])\n",
    "\n",
    "#Top 10 polluted states every year:\n",
    "#print(output_dict_state[#enter year between(including) 1987 and 2015])\n",
    "\n",
    "#Delhi month wise pollution for 2015:\n",
    "#print(delhi_dict[#enter the month number between(iincluding) 1 and 12])"
   ]
  },
  {
   "cell_type": "code",
   "execution_count": 11,
   "id": "4d4568af",
   "metadata": {
    "execution": {
     "iopub.execute_input": "2023-08-07T17:17:20.696838Z",
     "iopub.status.busy": "2023-08-07T17:17:20.696467Z",
     "iopub.status.idle": "2023-08-07T17:17:20.704348Z",
     "shell.execute_reply": "2023-08-07T17:17:20.703445Z"
    },
    "papermill": {
     "duration": 0.016823,
     "end_time": "2023-08-07T17:17:20.706635",
     "exception": false,
     "start_time": "2023-08-07T17:17:20.689812",
     "status": "completed"
    },
    "tags": []
   },
   "outputs": [
    {
     "name": "stdout",
     "output_type": "stream",
     "text": [
      "\n",
      "             air_quality\n",
      "location               \n",
      "Anpara       131.662500\n",
      "Pune         102.711765\n",
      "Jamshedpur    99.016667\n",
      "Haldia        98.920833\n",
      "Dombivli      92.115385\n",
      "Alwar         85.091489\n",
      "Chandrapur    80.987500\n",
      "Panjim        79.758333\n",
      "Palakkad      79.416667\n",
      "Nagda         74.925000\n",
      "\n",
      "             air_quality\n",
      "location               \n",
      "Raniganj     132.464744\n",
      "Badlapur     106.510204\n",
      "Ulhasnagar   104.522167\n",
      "Byrnihat      90.606061\n",
      "Pune          89.495122\n",
      "Jamshedpur    83.404494\n",
      "Kolkata       77.302928\n",
      "Lote          74.841121\n",
      "Howrah        74.432692\n",
      "Bareilly      71.922619\n",
      "\n",
      " 62.696969696969695\n"
     ]
    }
   ],
   "source": [
    "#Cell for testing the data\n",
    "#Un-comment the code to test data for any of the three questiond\n",
    "\n",
    "#Top 10 polluted cities every year:\n",
    "print('\\n',output_dict_city[2000])\n",
    "\n",
    "#Top 10 polluted states every year:\n",
    "print('\\n',output_dict_state[2011])\n",
    "\n",
    "#Delhi month wise pollution for 2015:\n",
    "print('\\n',delhi_dict[6])"
   ]
  },
  {
   "cell_type": "code",
   "execution_count": null,
   "id": "d2954360",
   "metadata": {
    "papermill": {
     "duration": 0.004075,
     "end_time": "2023-08-07T17:17:20.715028",
     "exception": false,
     "start_time": "2023-08-07T17:17:20.710953",
     "status": "completed"
    },
    "tags": []
   },
   "outputs": [],
   "source": []
  }
 ],
 "metadata": {
  "kernelspec": {
   "display_name": "Python 3",
   "language": "python",
   "name": "python3"
  },
  "language_info": {
   "codemirror_mode": {
    "name": "ipython",
    "version": 3
   },
   "file_extension": ".py",
   "mimetype": "text/x-python",
   "name": "python",
   "nbconvert_exporter": "python",
   "pygments_lexer": "ipython3",
   "version": "3.10.6"
  },
  "papermill": {
   "default_parameters": {},
   "duration": 16.055455,
   "end_time": "2023-08-07T17:17:21.641327",
   "environment_variables": {},
   "exception": null,
   "input_path": "__notebook__.ipynb",
   "output_path": "__notebook__.ipynb",
   "parameters": {},
   "start_time": "2023-08-07T17:17:05.585872",
   "version": "2.4.0"
  }
 },
 "nbformat": 4,
 "nbformat_minor": 5
}
